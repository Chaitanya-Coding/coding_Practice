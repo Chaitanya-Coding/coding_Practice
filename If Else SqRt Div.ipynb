{
 "cells": [
  {
   "cell_type": "code",
   "execution_count": 7,
   "id": "3931aa6d-915f-4463-b297-6ae85f52ee76",
   "metadata": {},
   "outputs": [
    {
     "name": "stdin",
     "output_type": "stream",
     "text": [
      "enter the value of x 25\n",
      "enter the value of y 2\n"
     ]
    }
   ],
   "source": [
    "x = float(input(\"enter the value of x\"))\n",
    "y = float(input(\"enter the value of y\"))\n",
    "z = x * y\n",
    "if z > 50:\n",
    "    Zsq = z ** 0.5\n",
    "    if Zsq % 2 == 0:\n",
    "        print(\"Even Square Root\")\n",
    "    else:\n",
    "        print(\"Odd Square Root\")\n",
    "elif z < 50:\n",
    "    Zdiv = z / 2\n",
    "    if Zdiv % 2 == 0:\n",
    "        print(\"Even Division\")\n",
    "    else:\n",
    "        print(\"Odd Division\")"
   ]
  },
  {
   "cell_type": "code",
   "execution_count": null,
   "id": "074b359b-6ae0-4415-9801-3d2438e52a75",
   "metadata": {},
   "outputs": [],
   "source": []
  }
 ],
 "metadata": {
  "kernelspec": {
   "display_name": "Python 3 (ipykernel)",
   "language": "python",
   "name": "python3"
  },
  "language_info": {
   "codemirror_mode": {
    "name": "ipython",
    "version": 3
   },
   "file_extension": ".py",
   "mimetype": "text/x-python",
   "name": "python",
   "nbconvert_exporter": "python",
   "pygments_lexer": "ipython3",
   "version": "3.12.4"
  }
 },
 "nbformat": 4,
 "nbformat_minor": 5
}
