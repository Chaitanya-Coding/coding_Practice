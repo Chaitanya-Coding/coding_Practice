{
 "cells": [
  {
   "cell_type": "code",
   "execution_count": 1,
   "id": "9d0f4d42-4cd4-4c7f-aa0b-42cede07f139",
   "metadata": {},
   "outputs": [
    {
     "name": "stdout",
     "output_type": "stream",
     "text": [
      "I have 15 and 37 cents\n"
     ]
    }
   ],
   "source": [
    "pennies = 1537\n",
    "\n",
    "dollars = pennies // 100 # Calculates the number of dollars\n",
    "\n",
    "cents = pennies % 100 # Calculates the number of pennies\n",
    "\n",
    "print(\"I have\", dollars, \"and\", cents, \"cents\")"
   ]
  },
  {
   "cell_type": "code",
   "execution_count": null,
   "id": "ab69b3db-6c6c-4c21-ad8a-6c53843be0df",
   "metadata": {},
   "outputs": [],
   "source": []
  }
 ],
 "metadata": {
  "kernelspec": {
   "display_name": "Python 3 (ipykernel)",
   "language": "python",
   "name": "python3"
  },
  "language_info": {
   "codemirror_mode": {
    "name": "ipython",
    "version": 3
   },
   "file_extension": ".py",
   "mimetype": "text/x-python",
   "name": "python",
   "nbconvert_exporter": "python",
   "pygments_lexer": "ipython3",
   "version": "3.12.4"
  }
 },
 "nbformat": 4,
 "nbformat_minor": 5
}
