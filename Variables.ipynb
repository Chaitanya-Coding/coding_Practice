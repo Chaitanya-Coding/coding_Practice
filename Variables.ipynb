{
 "cells": [
  {
   "cell_type": "code",
   "execution_count": 14,
   "id": "7ca6e45d-5236-4bb7-9cef-bd0679c41ee9",
   "metadata": {},
   "outputs": [
    {
     "name": "stdout",
     "output_type": "stream",
     "text": [
      "3.0\n"
     ]
    }
   ],
   "source": [
    "# Total variables 4 (x,y,z,SRoot)\n",
    "\n",
    "x = 3\n",
    "\n",
    "y = 12\n",
    "\n",
    "z = (x*y)            #z = 3*12\n",
    "\n",
    "# z = (3*12)\n",
    "\n",
    "SRoot = (z/4)        #SRoot = 36/4\n",
    "\n",
    "SRoot = SRoot**(1/2) #Calculates the square-root/under-root of SRoot\n",
    "\n",
    "print (SRoot)\n"
   ]
  }
 ],
 "metadata": {
  "kernelspec": {
   "display_name": "Python 3 (ipykernel)",
   "language": "python",
   "name": "python3"
  },
  "language_info": {
   "codemirror_mode": {
    "name": "ipython",
    "version": 3
   },
   "file_extension": ".py",
   "mimetype": "text/x-python",
   "name": "python",
   "nbconvert_exporter": "python",
   "pygments_lexer": "ipython3",
   "version": "3.12.4"
  }
 },
 "nbformat": 4,
 "nbformat_minor": 5
}
